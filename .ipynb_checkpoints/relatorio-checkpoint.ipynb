{
 "cells": [
  {
   "attachments": {},
   "cell_type": "markdown",
   "metadata": {},
   "source": [
    "A base de dados selecionada para esse trabalho foi à correspondente aos dados de esquistossomose do ano de 2018.\n",
    "\n",
    "Antes de iniciar, vamos importar as bibliotecas necessárias e carregar os dados que serão utilizados."
   ]
  },
  {
   "cell_type": "code",
   "execution_count": 2,
   "metadata": {},
   "outputs": [],
   "source": [
    "import pandas as pd\n",
    "import matplotlib.pyplot as plt\n",
    "\n",
    "codigos_estados = {35: 'SP', 41: 'PR', 42: 'SC', 43: 'RS', 50: 'MS', 11: 'RO', 12: 'AC', 13: 'AM', 14: 'RR', 15: 'PA', 16: 'AP', 17: 'TO', 21: 'MA', 24: 'RN', 25: 'PB', 26: 'PE', 27: 'AL', 28: 'SE', 29: 'BA', 31: 'MG', 33: 'RJ', 51: 'MT', 52: 'GO', 53: 'DF', 22: 'PI', 23: 'CE', 32: 'ES'}\n",
    "\n",
    "DATA = \"esquistossomose.parquet\""
   ]
  },
  {
   "attachments": {},
   "cell_type": "markdown",
   "metadata": {},
   "source": [
    "## Questão 1\n",
    "\n",
    "Para essa questão, pensamos que o comprimento do index seria igual o número de casos da questão. \n",
    "\n",
    "Assim, basta ler o arquivo e calcular o comprimento do index da variável."
   ]
  },
  {
   "cell_type": "code",
   "execution_count": 3,
   "metadata": {},
   "outputs": [
    {
     "data": {
      "text/plain": [
       "4219"
      ]
     },
     "execution_count": 3,
     "metadata": {},
     "output_type": "execute_result"
    }
   ],
   "source": [
    "def questao_1(datapath = DATA):\n",
    "    tabela = pd.read_parquet(datapath)\n",
    "    # Procura o comprimento do index, que é a quantidade de casos notificados\n",
    "    tamanho = len(tabela.index)\n",
    "    return tamanho\n",
    "\n",
    "questao_1()"
   ]
  },
  {
   "attachments": {},
   "cell_type": "markdown",
   "metadata": {},
   "source": [
    "Assim existem 4219 registros de esquistossomose no Brasil em 2018."
   ]
  },
  {
   "attachments": {},
   "cell_type": "markdown",
   "metadata": {},
   "source": [
    "## Questão 2"
   ]
  },
  {
   "attachments": {},
   "cell_type": "markdown",
   "metadata": {},
   "source": [
    "Para essa questão, foi necessário o uso de apenas um método chamado `value_counts`, que automaticamente agrupa os dados, no nosso caso, por município, e contabiliza quantos casos da doença ocorreram em cada município. Assim, o resultado foi este:"
   ]
  },
  {
   "cell_type": "code",
   "execution_count": 4,
   "metadata": {},
   "outputs": [
    {
     "data": {
      "text/plain": [
       "ID_MUNICIP\n",
       "313130    419\n",
       "310620    353\n",
       "355030    173\n",
       "310050    166\n",
       "312270    127\n",
       "         ... \n",
       "310900      1\n",
       "310690      1\n",
       "310510      1\n",
       "310040      1\n",
       "313220      1\n",
       "Name: count, Length: 598, dtype: int64"
      ]
     },
     "execution_count": 4,
     "metadata": {},
     "output_type": "execute_result"
    }
   ],
   "source": [
    "def questao_2(datapath = DATA):\n",
    "    tabela = pd.read_parquet(datapath)\n",
    "    return tabela.value_counts(\"ID_MUNICIP\")\n",
    "\n",
    "questao_2()"
   ]
  },
  {
   "attachments": {},
   "cell_type": "markdown",
   "metadata": {},
   "source": [
    "## Questão 3\n",
    "Para essa questão, foi utilizado a função de value_counts() presente na biblioteca do pandas, a qual serve para agrupar todos os dados presentes numa tabela, contando a quantidade de valores deles. \n",
    "A função cria um objeto que é uma \"series\" a qual pode facilmente ser convertido em um dicionário, com a função dict.\n",
    "Após isso, foi feita uma lista com as chaves do dicionário que foi criado. \n",
    "Como a função value_counts() sempre ordena os valores do maior para o menor, sabemos que quando o primeiro elemento for pego, teremos o sexo com maior quantidade de aparições.\n",
    "Por fim, basta retornar tanto a string com o sexo que teve a maior quantidade de aparições, quanto o dicionário com os sexos e suas quantidades."
   ]
  },
  {
   "cell_type": "code",
   "execution_count": 5,
   "metadata": {},
   "outputs": [
    {
     "data": {
      "text/plain": [
       "('M', {'M': 2558, 'F': 1661})"
      ]
     },
     "execution_count": 5,
     "metadata": {},
     "output_type": "execute_result"
    }
   ],
   "source": [
    "def questao_3(datapath = DATA):\n",
    "    tabela = pd.read_parquet(datapath)\n",
    "    # Criando um dicionário com os sexos e a quantidade de ocorrências de homem e mulher\n",
    "    casos_por_sexo = dict(tabela[\"CS_SEXO\"].value_counts())\n",
    "    # Criando lista com as quantidades de casos\n",
    "    lista_com_casos = list(casos_por_sexo.keys())\n",
    "    # Pegando o maior elemento (primeiro elemento)\n",
    "    maior_quantidade = lista_com_casos[0]\n",
    "    # Retornando o sexo que aparece em maior quantidade, bem como a frequência\n",
    "    return maior_quantidade, casos_por_sexo\n",
    "\n",
    "questao_3()"
   ]
  },
  {
   "attachments": {},
   "cell_type": "markdown",
   "metadata": {},
   "source": [
    "Assim, podemos ver que o sexo masculino foi o sexo que teve mais ocorrências.  \n",
    "\n",
    "Além disso, esse problema atingiu 2558 indivíduos do sexo masculino, e 1661 indivíduos do sexo feminino."
   ]
  },
  {
   "attachments": {},
   "cell_type": "markdown",
   "metadata": {},
   "source": [
    "## Questão 4"
   ]
  },
  {
   "attachments": {},
   "cell_type": "markdown",
   "metadata": {},
   "source": [
    "Para responder a essa pergunta, foi preciso apenas um método denominado `mean`, que retorna a média dos dados de uma determinada coluna de uma tabela. Assim, bastou aplicar esse método à coluna \"IDADE\" no nosso dataset, coluna essa que foi criada ainda antes do download da base por meio da função decodificadora de idade do SINAN."
   ]
  },
  {
   "cell_type": "code",
   "execution_count": 6,
   "metadata": {},
   "outputs": [
    {
     "data": {
      "text/plain": [
       "40.20773257745728"
      ]
     },
     "execution_count": 6,
     "metadata": {},
     "output_type": "execute_result"
    }
   ],
   "source": [
    "def questao_4(datapath = DATA):\n",
    "    tabela = pd.read_parquet(datapath)\n",
    "    return tabela[\"IDADE\"].mean()\n",
    "\n",
    "questao_4()"
   ]
  },
  {
   "attachments": {},
   "cell_type": "markdown",
   "metadata": {},
   "source": [
    "Portanto, a média de idade das vítimas de esquistossomose em 2018 foi de aproximadamente 40 anos."
   ]
  },
  {
   "attachments": {},
   "cell_type": "markdown",
   "metadata": {},
   "source": [
    "## Questão 5"
   ]
  },
  {
   "attachments": {},
   "cell_type": "markdown",
   "metadata": {},
   "source": [
    "Primeiramente, mais uma vez, era necessário agrupar os dados e contar suas ocorrências por categoria por meio do `value_counts`, mas agora por estado.\n",
    "\n",
    "Em seguida, com base em um dicionário já carregado anteriormente que contém os códigos dos estados e as respectivas siglas, foi realizada a substituição dos códigos numéricos pelas siglas de cada estado por meio de um loop `for` e com o método `rename`, que renomeou adequadamente cada código pelo respectivo estado. Vale ressaltar que isso foi efetuado como uma troca de índices, já que os valores dos estados estavam configurados como a coluna \"index\" da série gerada inicialmente. Além disso, na série, foi preciso converter esses códigos para números com a função `to_numeric`, pois eles estavam classificados como strings, impossibilitando a correspondência entre seus valores e os do dicionário.\n",
    "\n",
    "Por fim, bastou converter essa série para dicionário com o método `to_dict`."
   ]
  },
  {
   "cell_type": "code",
   "execution_count": 7,
   "metadata": {},
   "outputs": [
    {
     "data": {
      "text/plain": [
       "{'MG': 2064,\n",
       " 'SP': 573,\n",
       " 'ES': 437,\n",
       " 'BA': 341,\n",
       " 'PE': 177,\n",
       " 'SE': 130,\n",
       " 'AL': 102,\n",
       " 'RO': 66,\n",
       " 'MA': 54,\n",
       " 'PR': 49,\n",
       " 'PB': 46,\n",
       " 'RJ': 44,\n",
       " 'CE': 37,\n",
       " 'DF': 24,\n",
       " 'SC': 12,\n",
       " 'GO': 12,\n",
       " 'MT': 11,\n",
       " 'RN': 11,\n",
       " 'MS': 9,\n",
       " 'PA': 8,\n",
       " 'TO': 4,\n",
       " 'RR': 3,\n",
       " 'AP': 2,\n",
       " 'RS': 2,\n",
       " 'PI': 1}"
      ]
     },
     "execution_count": 7,
     "metadata": {},
     "output_type": "execute_result"
    }
   ],
   "source": [
    "def questao_5(datapath = DATA):\n",
    "    tabela = pd.read_parquet(datapath)\n",
    "    # Agrupando e contando as ocorrências por estado\n",
    "    tabela_por_estado = tabela.value_counts(\"SG_UF_NOT\")\n",
    "    # Convertendo os códigos dos estados para números\n",
    "    tabela_por_estado.index = pd.to_numeric(tabela_por_estado.index)\n",
    "    # Substituindo os códigos pelas siglas\n",
    "    for codigo, sigla in codigos_estados.items():\n",
    "        tabela_por_estado.rename(index = {codigo: sigla}, inplace = True)\n",
    "    # Convertendo a série para um dicionário\n",
    "    return tabela_por_estado.to_dict()\n",
    "\n",
    "questao_5()"
   ]
  },
  {
   "attachments": {},
   "cell_type": "markdown",
   "metadata": {},
   "source": [
    "Portanto, a unidade federativa com mais registros é Minas Gerais, com 2064 casos da doença naquele ano."
   ]
  },
  {
   "attachments": {},
   "cell_type": "markdown",
   "metadata": {},
   "source": [
    "## Questão 6"
   ]
  },
  {
   "attachments": {},
   "cell_type": "markdown",
   "metadata": {},
   "source": [
    "Para essa questão, foram realizados exatamente os mesmos passos da questão anterior, com a única diferença de que foi feita a filtragem dos dados de modo a considerar apenas registros com pessoas do sexo masculino. Assim, a função ficou desta forma:"
   ]
  },
  {
   "cell_type": "code",
   "execution_count": 8,
   "metadata": {},
   "outputs": [
    {
     "data": {
      "text/plain": [
       "{'MG': 1276,\n",
       " 'SP': 312,\n",
       " 'ES': 307,\n",
       " 'BA': 191,\n",
       " 'PE': 100,\n",
       " 'SE': 78,\n",
       " 'AL': 50,\n",
       " 'PR': 41,\n",
       " 'RO': 36,\n",
       " 'MA': 35,\n",
       " 'PB': 27,\n",
       " 'RJ': 26,\n",
       " 'CE': 19,\n",
       " 'SC': 12,\n",
       " 'DF': 11,\n",
       " 'GO': 8,\n",
       " 'RN': 7,\n",
       " 'MS': 7,\n",
       " 'MT': 6,\n",
       " 'PA': 4,\n",
       " 'TO': 2,\n",
       " 'RR': 1,\n",
       " 'AP': 1,\n",
       " 'RS': 1}"
      ]
     },
     "execution_count": 8,
     "metadata": {},
     "output_type": "execute_result"
    }
   ],
   "source": [
    "def questao_6(datapath = DATA):\n",
    "    tabela = pd.read_parquet(datapath)\n",
    "    # Filtrando os dados para registros do sexo masculino\n",
    "    sexo_masculino = tabela[tabela[\"CS_SEXO\"] == \"M\"]\n",
    "    sexo_masculino_por_estado = sexo_masculino.value_counts(\"SG_UF_NOT\")\n",
    "    sexo_masculino_por_estado.index = pd.to_numeric(sexo_masculino_por_estado.index)\n",
    "    for codigo, sigla in codigos_estados.items():\n",
    "        sexo_masculino_por_estado.rename(index = {codigo: sigla}, inplace = True)\n",
    "    return sexo_masculino_por_estado.to_dict()\n",
    "\n",
    "questao_6()"
   ]
  },
  {
   "attachments": {},
   "cell_type": "markdown",
   "metadata": {},
   "source": [
    "Desse modo, novamente, o estado com mais casos do sexo masculino é Minas Gerais, com 1276 registros."
   ]
  },
  {
   "attachments": {},
   "cell_type": "markdown",
   "metadata": {},
   "source": [
    "# Questão 7\n",
    "Para essa questão, além da variável \"codigos_estados\" já definida, foi definido um dicionário no qual as chaves são os códigos dos estados e os valores, a quantidade de municípios dos estados.  \n",
    "\n",
    "Utilizamos um `groupby` nos estados, contando a quantidade de municípios que apareciam. Para evitar a repetição de termos, utilizamos a função `nunique`, a qual retira os municípios que seriam contados duas vezes.  \n",
    "\n",
    "Após isso, criaremos um dataframe auxiliar no qual tranformaremos o dicionário que temos num dataframe e adicionaremos uma nova coluna a ele com a quantidade de casos por estado.  \n",
    "\n",
    "Agora, temos um dataframe com a quantidade de cidades de cada UF, bem como a quantidade de cidades que apresentaram a doença.  Portanto, podemos criar uma nova coluna, como sendo a divisão de uma pela outra, para termos a proporção e multiplicaremos por 100 para a obtenção da porcentagem.   \n",
    "\n",
    "Para obtermos as siglas das UFs, utilizaremos a função `map`, para assim auxiliar na conversão dos códigos nas siglas das unidades da federação.  \n",
    "\n",
    "Além disso, ordenaremos as porcentagens da maior para a menor de acordo com a coluna porcentagem com a função `sort_values`\n",
    "\n",
    "Por fim, vamos criar um dicionário no qual vamos zipar a coluna UF com seu respectivo valor de porcentagem e retorná-lo.  \n",
    "\n",
    "Assim temos uma função que nos retorna cada UF com a respectiva proporção de municípios que relataram casos em cada estado."
   ]
  },
  {
   "cell_type": "code",
   "execution_count": 12,
   "metadata": {},
   "outputs": [
    {
     "data": {
      "text/plain": [
       "{'ES': 0.4231,\n",
       " 'SE': 0.32,\n",
       " 'AL': 0.3039,\n",
       " 'BA': 0.2254,\n",
       " 'RO': 0.2115,\n",
       " 'MG': 0.1782,\n",
       " 'PE': 0.1739,\n",
       " 'SP': 0.1643,\n",
       " 'RJ': 0.163,\n",
       " 'RR': 0.1333,\n",
       " 'AP': 0.125,\n",
       " 'MS': 0.0633,\n",
       " 'CE': 0.0598,\n",
       " 'PB': 0.0583,\n",
       " 'PR': 0.0476,\n",
       " 'MA': 0.0369,\n",
       " 'GO': 0.0366,\n",
       " 'MT': 0.0355,\n",
       " 'PA': 0.0347,\n",
       " 'SC': 0.0339,\n",
       " 'RN': 0.024,\n",
       " 'TO': 0.0216,\n",
       " 'PI': 0.0045,\n",
       " 'RS': 0.004,\n",
       " 'AM': 0.0,\n",
       " 'AC': 0.0}"
      ]
     },
     "execution_count": 12,
     "metadata": {},
     "output_type": "execute_result"
    }
   ],
   "source": [
    "def questao_7(datapath = DATA):\n",
    "    tabela = pd.read_parquet(datapath)\n",
    "    # Dicionário com o código do estado e a quantidade de municípios nele\n",
    "    mun_por_est = {31 : 853, 35 : 645, 43 : 497, 29 : 417, 41 : 399, 42 : 295, 52 : 246, 22 : 224, 25 : 223, 21: 217, 26 : 184, 23 : 184, 24 : 167, 15 : 144, 51 : 141, 17 : 139, 27 : 102, 33 : 92, 50 : 79, 32 : 78, 28 : 75, 13 : 62,11 : 52, 12 : 22, 16 : 16, 14 : 15}\n",
    "    # Agrupando os dados por estado e contando cada município uma única vez\n",
    "    casos_por_estado = tabela.groupby('SG_UF_NOT')['ID_MUNICIP'].nunique()\n",
    "    # Convertendo o index para um número para não dar problema no dicionário\n",
    "    casos_por_estado.index = pd.to_numeric(casos_por_estado.index)\n",
    "    # Criando dataframe auxiliar\n",
    "    tabela_auxiliar = pd.DataFrame({\"COD\": mun_por_est.keys(), \"Quantidade de Cidades\": mun_por_est.values()})\n",
    "    # Colocando a quantidade de cidades com casos como uma coluna na tabela\n",
    "    tabela_auxiliar[\"Quantidade de cidades com casos\"] = tabela_auxiliar[\"COD\"].map(casos_por_estado).fillna(0)\n",
    "    # Criando a coluna \"Porcentagem\"\n",
    "    tabela_auxiliar[\"Porcentagem\"] = (tabela_auxiliar[\"Quantidade de cidades com casos\"]/tabela_auxiliar[\"Quantidade de Cidades\"]).round(4)\n",
    "    # Criando uma coluna com as siglas de cada UF\n",
    "    tabela_auxiliar[\"UF\"] = tabela_auxiliar[\"COD\"].map(codigos_estados)\n",
    "    # Ordenando do maior para o menor porcentagem\n",
    "    tabela_auxiliar.sort_values(by=\"Porcentagem\", inplace= True, ascending=False)\n",
    "    # Criando um dicionário com as siglas e as porcentagens\n",
    "    dicionario = dict(zip(tabela_auxiliar[\"UF\"], tabela_auxiliar[\"Porcentagem\"]))\n",
    "    # Retornando o dicionário\n",
    "    return dicionario\n",
    "\n",
    "questao_7()"
   ]
  },
  {
   "attachments": {},
   "cell_type": "markdown",
   "metadata": {},
   "source": [
    "## Questão 8"
   ]
  },
  {
   "attachments": {},
   "cell_type": "markdown",
   "metadata": {},
   "source": [
    "Nessa oitava questão, assim como orientado, primeiramente, foi efetuada a criação das colunas \"DT_NOTIFICACAO\" e \"DT_SINTOMAS\" para o formato de data por meio da função `to_datetime`.\n",
    "\n",
    "Em seguida, foi criada a coluna \"ATRASO_NOT\" como sendo a diferença entre as duas colunas citadas anteriormente, e, por fim, bastou retornar como resultado da função as três colunas solicitadas.\n",
    "\n",
    "O resultado final está a seguir."
   ]
  },
  {
   "cell_type": "code",
   "execution_count": 13,
   "metadata": {},
   "outputs": [
    {
     "data": {
      "text/html": [
       "<div>\n",
       "<style scoped>\n",
       "    .dataframe tbody tr th:only-of-type {\n",
       "        vertical-align: middle;\n",
       "    }\n",
       "\n",
       "    .dataframe tbody tr th {\n",
       "        vertical-align: top;\n",
       "    }\n",
       "\n",
       "    .dataframe thead th {\n",
       "        text-align: right;\n",
       "    }\n",
       "</style>\n",
       "<table border=\"1\" class=\"dataframe\">\n",
       "  <thead>\n",
       "    <tr style=\"text-align: right;\">\n",
       "      <th></th>\n",
       "      <th>DT_NOTIFICACAO</th>\n",
       "      <th>DT_SINTOMAS</th>\n",
       "      <th>ATRASO_NOT</th>\n",
       "    </tr>\n",
       "  </thead>\n",
       "  <tbody>\n",
       "    <tr>\n",
       "      <th>0</th>\n",
       "      <td>2018-01-01</td>\n",
       "      <td>2017-12-29</td>\n",
       "      <td>3 days</td>\n",
       "    </tr>\n",
       "    <tr>\n",
       "      <th>1</th>\n",
       "      <td>2018-01-02</td>\n",
       "      <td>2017-12-01</td>\n",
       "      <td>32 days</td>\n",
       "    </tr>\n",
       "    <tr>\n",
       "      <th>2</th>\n",
       "      <td>2018-01-02</td>\n",
       "      <td>2017-12-07</td>\n",
       "      <td>26 days</td>\n",
       "    </tr>\n",
       "    <tr>\n",
       "      <th>3</th>\n",
       "      <td>2018-01-02</td>\n",
       "      <td>2017-12-26</td>\n",
       "      <td>7 days</td>\n",
       "    </tr>\n",
       "    <tr>\n",
       "      <th>4</th>\n",
       "      <td>2018-01-02</td>\n",
       "      <td>2017-12-05</td>\n",
       "      <td>28 days</td>\n",
       "    </tr>\n",
       "    <tr>\n",
       "      <th>...</th>\n",
       "      <td>...</td>\n",
       "      <td>...</td>\n",
       "      <td>...</td>\n",
       "    </tr>\n",
       "    <tr>\n",
       "      <th>4214</th>\n",
       "      <td>2018-12-28</td>\n",
       "      <td>2018-10-05</td>\n",
       "      <td>84 days</td>\n",
       "    </tr>\n",
       "    <tr>\n",
       "      <th>4215</th>\n",
       "      <td>2018-12-28</td>\n",
       "      <td>2018-11-20</td>\n",
       "      <td>38 days</td>\n",
       "    </tr>\n",
       "    <tr>\n",
       "      <th>4216</th>\n",
       "      <td>2018-12-29</td>\n",
       "      <td>2018-10-01</td>\n",
       "      <td>89 days</td>\n",
       "    </tr>\n",
       "    <tr>\n",
       "      <th>4217</th>\n",
       "      <td>2018-12-30</td>\n",
       "      <td>2018-12-26</td>\n",
       "      <td>4 days</td>\n",
       "    </tr>\n",
       "    <tr>\n",
       "      <th>4218</th>\n",
       "      <td>2018-12-31</td>\n",
       "      <td>2018-12-31</td>\n",
       "      <td>0 days</td>\n",
       "    </tr>\n",
       "  </tbody>\n",
       "</table>\n",
       "<p>4219 rows × 3 columns</p>\n",
       "</div>"
      ],
      "text/plain": [
       "     DT_NOTIFICACAO DT_SINTOMAS ATRASO_NOT\n",
       "0        2018-01-01  2017-12-29     3 days\n",
       "1        2018-01-02  2017-12-01    32 days\n",
       "2        2018-01-02  2017-12-07    26 days\n",
       "3        2018-01-02  2017-12-26     7 days\n",
       "4        2018-01-02  2017-12-05    28 days\n",
       "...             ...         ...        ...\n",
       "4214     2018-12-28  2018-10-05    84 days\n",
       "4215     2018-12-28  2018-11-20    38 days\n",
       "4216     2018-12-29  2018-10-01    89 days\n",
       "4217     2018-12-30  2018-12-26     4 days\n",
       "4218     2018-12-31  2018-12-31     0 days\n",
       "\n",
       "[4219 rows x 3 columns]"
      ]
     },
     "execution_count": 13,
     "metadata": {},
     "output_type": "execute_result"
    }
   ],
   "source": [
    "def questao_8(datapath = DATA):\n",
    "    tabela = pd.read_parquet(datapath)\n",
    "    # Criando as colunas como datas\n",
    "    tabela[\"DT_NOTIFICACAO\"] = pd.to_datetime(tabela[\"DT_NOTIFIC\"])\n",
    "    tabela[\"DT_SINTOMAS\"] = pd.to_datetime(tabela[\"DT_SIN_PRI\"])\n",
    "    # Gerando a coluna de atraso de notificação\n",
    "    tabela[\"ATRASO_NOT\"] = tabela[\"DT_NOTIFICACAO\"] - tabela[\"DT_SINTOMAS\"]\n",
    "    return tabela[[\"DT_NOTIFICACAO\", \"DT_SINTOMAS\", \"ATRASO_NOT\"]]\n",
    "\n",
    "questao_8()"
   ]
  },
  {
   "attachments": {},
   "cell_type": "markdown",
   "metadata": {},
   "source": [
    "## Questão 9"
   ]
  },
  {
   "attachments": {},
   "cell_type": "markdown",
   "metadata": {},
   "source": [
    "Nessa questão utilizaremos as colunas já previamente realizadas na questão 8. Assim, apenas copiaremos o código.  \n",
    "\n",
    "No entanto, como o formato presente na coluna não é favorável à manipulação dos dados, transformaremos as datas do tipo \"deltatime\" para inteiros com o método `dt.days`.  \n",
    "\n",
    "Após isso, foi criado um dataframe com os dados agrupados por UF, no qual temos as colunas com a média e o desvio padrão dos atrasos.  \n",
    "\n",
    "Também foi adicionada uma coluna que transforma os códigos presentes no texto nas siglas das UFs. \n",
    "\n",
    "De modo a melhorar a apresentação do dados, ordenamos o dataframe com a função `sort_values`, de acordo com a média.\n",
    "\n",
    "Por fim, foi feito um dicionário, \"zipando\" a coluna UF com um zip entre a média e o desvio padrão.  \n",
    "\n",
    "Assim, temos um dicionário no qual as chaves são as siglas de UF e os valores são listas, retornando as médias e os desvios padrões em dias. "
   ]
  },
  {
   "cell_type": "code",
   "execution_count": 14,
   "metadata": {},
   "outputs": [
    {
     "data": {
      "text/plain": [
       "{'AL': (951.63, 3669.89),\n",
       " 'MT': (615.45, 1085.11),\n",
       " 'SP': (405.78, 2205.21),\n",
       " 'RO': (365.98, 2277.71),\n",
       " 'MS': (318.78, 597.05),\n",
       " 'PR': (273.92, 1232.03),\n",
       " 'DF': (254.0, 454.5),\n",
       " 'AP': (191.0, 230.52),\n",
       " 'RJ': (183.59, 233.38),\n",
       " 'BA': (163.04, 1228.63),\n",
       " 'PE': (159.64, 498.15),\n",
       " 'PB': (135.11, 294.21),\n",
       " 'MG': (113.22, 829.79),\n",
       " 'ES': (93.91, 560.26),\n",
       " 'TO': (72.25, 101.12),\n",
       " 'GO': (65.5, 70.96),\n",
       " 'MA': (65.04, 63.38),\n",
       " 'SE': (62.6, 323.87),\n",
       " 'RN': (49.73, 60.82),\n",
       " 'CE': (41.57, 64.7),\n",
       " 'PI': (40.0, 0.0),\n",
       " 'SC': (22.67, 67.27),\n",
       " 'PA': (11.75, 18.44),\n",
       " 'RS': (11.0, 12.73),\n",
       " 'RR': (7.0, 7.81)}"
      ]
     },
     "execution_count": 14,
     "metadata": {},
     "output_type": "execute_result"
    }
   ],
   "source": [
    "def questao_9(datapath = DATA):\n",
    "    tabela = pd.read_parquet(datapath)\n",
    "    # Criando as colunas com as datas\n",
    "    tabela[\"DT_NOTIFICACAO\"] = pd.to_datetime(tabela[\"DT_NOTIFIC\"])\n",
    "    tabela[\"DT_SINTOMAS\"] = pd.to_datetime(tabela[\"DT_SIN_PRI\"])\n",
    "    tabela[\"ATRASO_NOT\"] = tabela[\"DT_NOTIFICACAO\"] - tabela[\"DT_SINTOMAS\"]\n",
    "    # Transformando os números da tabela de datas para inteiros\n",
    "    tabela[\"ATRASO_NOT\"] = tabela[\"ATRASO_NOT\"].dt.days\n",
    "    # Criando o dataframe com a média e o desvio padrão\n",
    "    media_atraso = tabela.groupby(\"SG_UF_NOT\")[\"ATRASO_NOT\"].agg([\"mean\", \"std\"]).fillna(0)\n",
    "    # Colocando o index como número para funcionar\n",
    "    media_atraso.index = pd.to_numeric(media_atraso.index)\n",
    "    # Criando uma coluna com as siglas de cada UF\n",
    "    media_atraso[\"UF\"] = media_atraso.index.map(codigos_estados)\n",
    "    # Ordenando da maior média para a menor média\n",
    "    media_atraso.sort_values(by='mean', ascending=False, inplace=True)\n",
    "    # Criando o dicionário\n",
    "    resposta = dict(zip(media_atraso[\"UF\"], zip(media_atraso[\"mean\"].round(2), media_atraso[\"std\"].round(2))))\n",
    "    return resposta\n",
    "\n",
    "questao_9()"
   ]
  },
  {
   "attachments": {},
   "cell_type": "markdown",
   "metadata": {},
   "source": [
    "## Questão 10"
   ]
  },
  {
   "attachments": {},
   "cell_type": "markdown",
   "metadata": {},
   "source": [
    "Finalmente, para essa última questão, foi preciso criar novamente as colunas \"DT_NOTIFICACAO\" e \"DT_SINTOMAS\" com o formato datetime e recriar a coluna \"ATRASO_NOT\", como feito na questão 8. Não era possível apenas executar a função 8 pois sua tabela de retorno excluía colunas exigidas para a resolução dessa questão, sendo necessário realizar os mesmos processos mais uma vez.\n",
    "\n",
    "Feito isso, foi realizado o agrupamento dos dados por município pelo método `groupby` e o cálculo da contagem e da média dos atrasos de notificação por meio do método `agg`. Antes disso, foi preciso converter os dados da coluna \"ATRASO_NOT\" para inteiros para que o cálculo da média não gerasse valores quebrados de tempo (com hora, minuto e segundo) e não impossibilitasse a criação do gráfico com esses dados.\n",
    "\n",
    "Assim, utilizando a biblioteca \"matplotlib\", foi gerado o gráfico da média de atraso de notificação pela contagem de casos de esquistossomose por município. Para isso, foi aplicada a função `scatter` para a geração de um gráfico de dispersão, os métodos `xscale` e `yscale` para configurar as escalas do gráfico para logarítmicas e os métodos `xlabel` e `ylabel` para inserir os títulos dos eixos.\n",
    "\n",
    "Por fim, como retorno da função, foi realizado o agrupamento dos dados por município e o cálculo apenas da média dos atrasos por município."
   ]
  },
  {
   "cell_type": "code",
   "execution_count": 16,
   "metadata": {},
   "outputs": [
    {
     "data": {
      "image/png": "[encoded data removed]",
      "text/plain": [
       "<Figure size 640x480 with 1 Axes>"
      ]
     },
     "metadata": {},
     "output_type": "display_data"
    },
    {
     "data": {
      "text/plain": [
       "ID_MUNICIP\n",
       "110002      95.00\n",
       "110005       0.00\n",
       "110011      12.75\n",
       "110015    1130.37\n",
       "110020      22.27\n",
       "           ...   \n",
       "521720      31.00\n",
       "521740      86.00\n",
       "521880     155.00\n",
       "522050       8.00\n",
       "530010     254.00\n",
       "Name: ATRASO_NOT, Length: 598, dtype: float64"
      ]
     },
     "execution_count": 16,
     "metadata": {},
     "output_type": "execute_result"
    }
   ],
   "source": [
    "def questao_10(datapath = DATA):\n",
    "    atraso = pd.read_parquet(datapath)\n",
    "    # Realizando os mesmos processos da questão 8\n",
    "    atraso[\"DT_NOTIFICACAO\"] = pd.to_datetime(atraso[\"DT_NOTIFIC\"])\n",
    "    atraso[\"DT_SINTOMAS\"] = pd.to_datetime(atraso[\"DT_SIN_PRI\"])\n",
    "    atraso[\"ATRASO_NOT\"] = atraso[\"DT_NOTIFICACAO\"] - atraso[\"DT_SINTOMAS\"]\n",
    "    # Convertendo a coluna de atraso para inteiros\n",
    "    atraso[\"ATRASO_NOT\"] = atraso[\"ATRASO_NOT\"].dt.days\n",
    "    # Agrupando e calculando a contagem e a média por município\n",
    "    atraso_por_municipio = pd.DataFrame(atraso.groupby(\"ID_MUNICIP\")[\"ATRASO_NOT\"].agg([\"count\", \"mean\"]))\n",
    "\n",
    "    # Gerando o gráfico\n",
    "    plt.scatter(atraso_por_municipio[\"count\"], atraso_por_municipio[\"mean\"])\n",
    "    # Configurando as escalas dos eixos para logarítmicas\n",
    "    plt.xscale(\"log\")\n",
    "    plt.yscale(\"log\")\n",
    "    # Configurando os títulos dos eixos\n",
    "    plt.xlabel(\"Contagem de casos\")\n",
    "    plt.ylabel(\"Média de atraso de notificação (dias)\")\n",
    "    plt.show()\n",
    "\n",
    "    # Retornando uma série com as médias de atraso por município\n",
    "    return atraso.groupby(\"ID_MUNICIP\")[\"ATRASO_NOT\"].mean().round(2)\n",
    "\n",
    "questao_10()"
   ]
  }
 ],
 "metadata": {
  "kernelspec": {
   "display_name": "Python 3 (ipykernel)",
   "language": "python",
   "name": "python3"
  },
  "language_info": {
   "codemirror_mode": {
    "name": "ipython",
    "version": 3
   },
   "file_extension": ".py",
   "mimetype": "text/x-python",
   "name": "python",
   "nbconvert_exporter": "python",
   "pygments_lexer": "ipython3",
   "version": "3.10.10"
  }
 },
 "nbformat": 4,
 "nbformat_minor": 4
}

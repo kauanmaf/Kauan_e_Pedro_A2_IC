{
 "cells": [
  {
   "cell_type": "code",
<<<<<<< HEAD
   "execution_count": 2,
=======
   "execution_count": 10,
>>>>>>> aff192adafbe37c57453b5f207e0e59f541ad727
   "metadata": {},
   "outputs": [],
   "source": [
    "import pandas as pd\n",
    "import matplotlib.pyplot as plt\n",
    "\n",
    "codigos_estados = {35: 'SP', 41: 'PR', 42: 'SC', 43: 'RS', 50: 'MS', 11: 'RO', 12: 'AC', 13: 'AM', 14: 'RR', 15: 'PA', 16: 'AP', 17: 'TO', 21: 'MA', 24: 'RN', 25: 'PB', 26: 'PE', 27: 'AL', 28: 'SE', 29: 'BA', 31: 'MG', 33: 'RJ', 51: 'MT', 52: 'GO', 53: 'DF', 22: 'PI', 23: 'CE', 32: 'ES'}\n",
    "\n",
    "DATA = \"esquistossomose.parquet\""
   ]
  },
  {
   "attachments": {},
   "cell_type": "markdown",
   "metadata": {},
   "source": [
    "## Questão 1\n",
    "\n",
    "Para essa questão, pensamos que o comprimento do index seria igual o número de casos da questão. \n",
    "\n",
    "Assim, basta ler o arquivo e calcular o comprimento do index da variável."
   ]
  },
  {
   "cell_type": "code",
   "execution_count": 11,
   "metadata": {},
   "outputs": [
    {
     "data": {
      "text/plain": [
       "4219"
      ]
     },
     "execution_count": 11,
     "metadata": {},
     "output_type": "execute_result"
    }
   ],
   "source": [
    "def questao_1(datapath = DATA):\n",
    "    tabela = pd.read_parquet(datapath)\n",
    "    # Procura o comprimento do index, que é a quantidade de casos notificados\n",
    "    tamanho = len(tabela.index)\n",
    "    return tamanho\n",
    "questao_1()"
   ]
  },
  {
   "attachments": {},
   "cell_type": "markdown",
   "metadata": {},
   "source": [
    "## Questão 2"
   ]
  },
  {
   "attachments": {},
   "cell_type": "markdown",
   "metadata": {},
   "source": [
<<<<<<< HEAD
    "Essa questão necessita unicamente do uso de um método: `value_counts`, que já agrupa e contabiliza as ocorrências da doença em cada município. Portanto, o resultado está abaixo:"
=======
    "## Questão 3\n",
    "Para essa questão, foi utilizado a função de value_counts() presente na biblioteca do pandas, a qual serve para agrupar todos os dados presentes numa tabela, contando a quantidade de valores deles. \n",
    "A função cria um objeto que é uma \"series\" a qual pode facilmente ser convertido em um dicionário, com a função dict.\n",
    "Após isso, foi feita uma lista com as chaves do dicionário que foi criado. \n",
    "Como a função value_counts() sempre ordena os valores do maior para o menor, sabemos que quando o primeiro elemento for pego, teremos o sexo com maior quantidade de aparições.\n",
    "Por fim, basta retornar tanto a string com o sexo que teve a maior quantidade de aparições, quanto o dicionário com os sexos e suas quantidades."
>>>>>>> aff192adafbe37c57453b5f207e0e59f541ad727
   ]
  },
  {
   "cell_type": "code",
<<<<<<< HEAD
   "execution_count": 5,
=======
   "execution_count": 12,
>>>>>>> aff192adafbe37c57453b5f207e0e59f541ad727
   "metadata": {},
   "outputs": [
    {
     "data": {
      "text/plain": [
<<<<<<< HEAD
       "ID_MUNICIP\n",
       "313130    419\n",
       "310620    353\n",
       "355030    173\n",
       "310050    166\n",
       "312270    127\n",
       "         ... \n",
       "310900      1\n",
       "310690      1\n",
       "310510      1\n",
       "310040      1\n",
       "313220      1\n",
       "Name: count, Length: 598, dtype: int64"
      ]
     },
     "execution_count": 5,
=======
       "('M', {'M': 2558, 'F': 1661})"
      ]
     },
     "execution_count": 12,
>>>>>>> aff192adafbe37c57453b5f207e0e59f541ad727
     "metadata": {},
     "output_type": "execute_result"
    }
   ],
   "source": [
<<<<<<< HEAD
    "def questao_2(datapath = DATA):\n",
    "    tabela = pd.read_parquet(datapath)\n",
    "    return tabela.value_counts(\"ID_MUNICIP\")\n",
    "\n",
    "questao_2()"
   ]
  },
  {
   "attachments": {},
   "cell_type": "markdown",
   "metadata": {},
   "source": [
    "## Questão 3"
=======
    "def questao_3(datapath = DATA):\n",
    "    tabela = pd.read_parquet(datapath)\n",
    "    # Criando um dicionário com os sexos e a quantidade de ocorrências de homem e mulher\n",
    "    casos_por_sexo = dict(tabela[\"CS_SEXO\"].value_counts())\n",
    "    # Criando lista com as quantidades de casos\n",
    "    lista_com_casos = list(casos_por_sexo.keys())\n",
    "    # Pegando o maior elemento (primeiro elemento)\n",
    "    maior_quantidade = lista_com_casos[0]\n",
    "    # Retornando o sexo que aparece em maior quantidade, bem como a frequência\n",
    "    return maior_quantidade, casos_por_sexo\n",
    "questao_3()"
>>>>>>> aff192adafbe37c57453b5f207e0e59f541ad727
   ]
  },
  {
   "attachments": {},
   "cell_type": "markdown",
   "metadata": {},
   "source": [
    "## Questão 4"
   ]
  },
  {
   "attachments": {},
   "cell_type": "markdown",
   "metadata": {},
   "source": [
    "Agora, para a terceira questão, novamente, foi preciso apenas um método, mas dessa vez foi o `mean`, que retorna a média dos dados de uma determinada coluna de uma tabela."
   ]
  },
  {
   "cell_type": "code",
   "execution_count": null,
   "metadata": {},
   "outputs": [
    {
     "data": {
      "text/plain": [
       "40.20773257745728"
      ]
     },
     "metadata": {},
     "output_type": "display_data"
    }
   ],
   "source": [
    "def questao_4(datapath = DATA):\n",
    "    tabela = pd.read_parquet(datapath)\n",
    "    return tabela[\"IDADE\"].mean()\n",
    "\n",
    "questao_4()"
   ]
  },
  {
   "attachments": {},
   "cell_type": "markdown",
   "metadata": {},
   "source": [
    "Assim, a média de idade dos casos de esquistossomose em 2018 foi de aproximadamente 40 anos."
   ]
  },
  {
   "attachments": {},
   "cell_type": "markdown",
   "metadata": {},
   "source": [
    "## Questão 5"
   ]
  },
  {
   "attachments": {},
   "cell_type": "markdown",
   "metadata": {},
   "source": [
    "Primeiramente, assim como na questão 2, "
   ]
  },
  {
   "cell_type": "code",
   "execution_count": 10,
   "metadata": {},
   "outputs": [
    {
     "data": {
      "text/plain": [
       "{'MG': 2064,\n",
       " 'SP': 573,\n",
       " 'ES': 437,\n",
       " 'BA': 341,\n",
       " 'PE': 177,\n",
       " 'SE': 130,\n",
       " 'AL': 102,\n",
       " 'RO': 66,\n",
       " 'MA': 54,\n",
       " 'PR': 49,\n",
       " 'PB': 46,\n",
       " 'RJ': 44,\n",
       " 'CE': 37,\n",
       " 'DF': 24,\n",
       " 'SC': 12,\n",
       " 'GO': 12,\n",
       " 'MT': 11,\n",
       " 'RN': 11,\n",
       " 'MS': 9,\n",
       " 'PA': 8,\n",
       " 'TO': 4,\n",
       " 'RR': 3,\n",
       " 'AP': 2,\n",
       " 'RS': 2,\n",
       " 'PI': 1}"
      ]
     },
     "execution_count": 10,
     "metadata": {},
     "output_type": "execute_result"
    }
   ],
   "source": [
    "def questao_5(datapath = DATA):\n",
    "    tabela = pd.read_parquet(datapath)\n",
    "    tabela_por_estado = tabela.value_counts(\"SG_UF_NOT\")\n",
    "    tabela_por_estado.index = pd.to_numeric(tabela_por_estado.index)\n",
    "    for codigo, sigla in codigos_estados.items():\n",
    "        tabela_por_estado.rename(index = {codigo: sigla}, inplace = True)\n",
    "    return tabela_por_estado.to_dict()\n",
    "\n",
    "questao_5()"
   ]
  },
  {
   "attachments": {},
   "cell_type": "markdown",
   "metadata": {},
   "source": [
    "## Questão 6"
   ]
  },
  {
   "attachments": {},
   "cell_type": "markdown",
   "metadata": {},
   "source": [
    "## Questão 7"
   ]
  },
  {
   "cell_type": "code",
   "execution_count": null,
   "metadata": {},
   "outputs": [],
   "source": []
  },
  {
   "attachments": {},
   "cell_type": "markdown",
   "metadata": {},
   "source": [
    "## Questão 8"
   ]
  },
  {
   "attachments": {},
   "cell_type": "markdown",
   "metadata": {},
   "source": [
    "## Questão 9"
   ]
  },
  {
   "attachments": {},
   "cell_type": "markdown",
   "metadata": {},
   "source": [
    "## Questão 10"
   ]
  }
 ],
 "metadata": {
  "kernelspec": {
   "display_name": "Python 3",
   "language": "python",
   "name": "python3"
  },
  "language_info": {
   "codemirror_mode": {
    "name": "ipython",
    "version": 3
   },
   "file_extension": ".py",
   "mimetype": "text/x-python",
   "name": "python",
   "nbconvert_exporter": "python",
   "pygments_lexer": "ipython3",
   "version": "3.10.10"
  },
  "orig_nbformat": 4
 },
 "nbformat": 4,
 "nbformat_minor": 2
}

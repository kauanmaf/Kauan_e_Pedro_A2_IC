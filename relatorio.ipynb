{
 "cells": [
  {
   "cell_type": "code",
   "execution_count": 2,
   "metadata": {},
   "outputs": [],
   "source": [
    "import pandas as pd\n",
    "import matplotlib.pyplot as plt\n",
    "\n",
    "codigos_estados = {35: 'SP', 41: 'PR', 42: 'SC', 43: 'RS', 50: 'MS', 11: 'RO', 12: 'AC', 13: 'AM', 14: 'RR', 15: 'PA', 16: 'AP', 17: 'TO', 21: 'MA', 24: 'RN', 25: 'PB', 26: 'PE', 27: 'AL', 28: 'SE', 29: 'BA', 31: 'MG', 33: 'RJ', 51: 'MT', 52: 'GO', 53: 'DF', 22: 'PI', 23: 'CE', 32: 'ES'}\n",
    "\n",
    "DATA = \"esquistossomose.parquet\""
   ]
  },
  {
   "attachments": {},
   "cell_type": "markdown",
   "metadata": {},
   "source": [
    "## Questão 1\n",
    "\n",
    "Para essa questão, pensamos que o comprimento do index seria igual o número de casos da questão. \\n Assim, basta ler o arquivo e calcular o comprimento do index da variável."
   ]
  },
  {
   "attachments": {},
   "cell_type": "markdown",
   "metadata": {},
   "source": [
    "## Questão 2"
   ]
  },
  {
   "attachments": {},
   "cell_type": "markdown",
   "metadata": {},
   "source": [
    "Essa questão necessita unicamente do uso de um método: `value_counts`, que já agrupa e contabiliza as ocorrências da doença em cada município. Portanto, o resultado está abaixo:"
   ]
  },
  {
   "cell_type": "code",
   "execution_count": 5,
   "metadata": {},
   "outputs": [
    {
     "data": {
      "text/plain": [
       "ID_MUNICIP\n",
       "313130    419\n",
       "310620    353\n",
       "355030    173\n",
       "310050    166\n",
       "312270    127\n",
       "         ... \n",
       "310900      1\n",
       "310690      1\n",
       "310510      1\n",
       "310040      1\n",
       "313220      1\n",
       "Name: count, Length: 598, dtype: int64"
      ]
     },
     "execution_count": 5,
     "metadata": {},
     "output_type": "execute_result"
    }
   ],
   "source": [
    "def questao_2(datapath = DATA):\n",
    "    tabela = pd.read_parquet(datapath)\n",
    "    return tabela.value_counts(\"ID_MUNICIP\")\n",
    "\n",
    "questao_2()"
   ]
  },
  {
   "attachments": {},
   "cell_type": "markdown",
   "metadata": {},
   "source": [
    "## Questão 3"
   ]
  },
  {
   "attachments": {},
   "cell_type": "markdown",
   "metadata": {},
   "source": [
    "## Questão 4"
   ]
  },
  {
   "attachments": {},
   "cell_type": "markdown",
   "metadata": {},
   "source": [
    "Agora, para a terceira questão, novamente, foi preciso apenas um método, mas dessa vez foi o `mean`, que retorna a média dos dados de uma determinada coluna de uma tabela."
   ]
  },
  {
   "cell_type": "code",
   "execution_count": null,
   "metadata": {},
   "outputs": [
    {
     "data": {
      "text/plain": [
       "40.20773257745728"
      ]
     },
     "metadata": {},
     "output_type": "display_data"
    }
   ],
   "source": [
    "def questao_4(datapath = DATA):\n",
    "    tabela = pd.read_parquet(datapath)\n",
    "    return tabela[\"IDADE\"].mean()\n",
    "\n",
    "questao_4()"
   ]
  },
  {
   "attachments": {},
   "cell_type": "markdown",
   "metadata": {},
   "source": [
    "Assim, a média de idade dos casos de esquistossomose em 2018 foi de aproximadamente 40 anos."
   ]
  },
  {
   "attachments": {},
   "cell_type": "markdown",
   "metadata": {},
   "source": [
    "## Questão 5"
   ]
  },
  {
   "attachments": {},
   "cell_type": "markdown",
   "metadata": {},
   "source": [
    "Primeiramente, assim como na questão 2, "
   ]
  },
  {
   "cell_type": "code",
   "execution_count": 10,
   "metadata": {},
   "outputs": [
    {
     "data": {
      "text/plain": [
       "{'MG': 2064,\n",
       " 'SP': 573,\n",
       " 'ES': 437,\n",
       " 'BA': 341,\n",
       " 'PE': 177,\n",
       " 'SE': 130,\n",
       " 'AL': 102,\n",
       " 'RO': 66,\n",
       " 'MA': 54,\n",
       " 'PR': 49,\n",
       " 'PB': 46,\n",
       " 'RJ': 44,\n",
       " 'CE': 37,\n",
       " 'DF': 24,\n",
       " 'SC': 12,\n",
       " 'GO': 12,\n",
       " 'MT': 11,\n",
       " 'RN': 11,\n",
       " 'MS': 9,\n",
       " 'PA': 8,\n",
       " 'TO': 4,\n",
       " 'RR': 3,\n",
       " 'AP': 2,\n",
       " 'RS': 2,\n",
       " 'PI': 1}"
      ]
     },
     "execution_count": 10,
     "metadata": {},
     "output_type": "execute_result"
    }
   ],
   "source": [
    "def questao_5(datapath = DATA):\n",
    "    tabela = pd.read_parquet(datapath)\n",
    "    tabela_por_estado = tabela.value_counts(\"SG_UF_NOT\")\n",
    "    tabela_por_estado.index = pd.to_numeric(tabela_por_estado.index)\n",
    "    for codigo, sigla in codigos_estados.items():\n",
    "        tabela_por_estado.rename(index = {codigo: sigla}, inplace = True)\n",
    "    return tabela_por_estado.to_dict()\n",
    "\n",
    "questao_5()"
   ]
  },
  {
   "attachments": {},
   "cell_type": "markdown",
   "metadata": {},
   "source": [
    "## Questão 6"
   ]
  },
  {
   "attachments": {},
   "cell_type": "markdown",
   "metadata": {},
   "source": [
    "## Questão 7"
   ]
  },
  {
   "attachments": {},
   "cell_type": "markdown",
   "metadata": {},
   "source": [
    "## Questão 8"
   ]
  },
  {
   "attachments": {},
   "cell_type": "markdown",
   "metadata": {},
   "source": [
    "## Questão 9"
   ]
  },
  {
   "attachments": {},
   "cell_type": "markdown",
   "metadata": {},
   "source": [
    "## Questão 10"
   ]
  }
 ],
 "metadata": {
  "kernelspec": {
   "display_name": "Python 3",
   "language": "python",
   "name": "python3"
  },
  "language_info": {
   "codemirror_mode": {
    "name": "ipython",
    "version": 3
   },
   "file_extension": ".py",
   "mimetype": "text/x-python",
   "name": "python",
   "nbconvert_exporter": "python",
   "pygments_lexer": "ipython3",
   "version": "3.10.10"
  },
  "orig_nbformat": 4
 },
 "nbformat": 4,
 "nbformat_minor": 2
}

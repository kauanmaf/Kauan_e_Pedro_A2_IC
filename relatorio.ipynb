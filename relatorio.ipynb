{
 "cells": [
  {
   "cell_type": "code",
   "execution_count": 13,
   "metadata": {},
   "outputs": [],
   "source": [
    "import pandas as pd\n",
    "import matplotlib.pyplot as plt\n",
    "\n",
    "codigos_estados = {35: 'SP', 41: 'PR', 42: 'SC', 43: 'RS', 50: 'MS', 11: 'RO', 12: 'AC', 13: 'AM', 14: 'RR', 15: 'PA', 16: 'AP', 17: 'TO', 21: 'MA', 24: 'RN', 25: 'PB', 26: 'PE', 27: 'AL', 28: 'SE', 29: 'BA', 31: 'MG', 33: 'RJ', 51: 'MT', 52: 'GO', 53: 'DF', 22: 'PI', 23: 'CE', 32: 'ES'}\n",
    "\n",
    "DATA = \"esquistossomose.parquet\""
   ]
  },
  {
   "attachments": {},
   "cell_type": "markdown",
   "metadata": {},
   "source": [
    "## Questão 1\n",
    "\n",
    "Para essa questão, pensamos que o comprimento do index seria igual o número de casos da questão. \n",
    "\n",
    "Assim, basta ler o arquivo e calcular o comprimento do index da variável."
   ]
  },
  {
   "cell_type": "code",
   "execution_count": 14,
   "metadata": {},
   "outputs": [
    {
     "data": {
      "text/plain": [
       "4219"
      ]
     },
     "execution_count": 14,
     "metadata": {},
     "output_type": "execute_result"
    }
   ],
   "source": [
    "def questao_1(datapath = DATA):\n",
    "    tabela = pd.read_parquet(datapath)\n",
    "    # Procura o comprimento do index, que é a quantidade de casos notificados\n",
    "    tamanho = len(tabela.index)\n",
    "    return tamanho\n",
    "questao_1()"
   ]
  },
  {
   "attachments": {},
   "cell_type": "markdown",
   "metadata": {},
   "source": [
    "## Questão 2"
   ]
  },
  {
   "attachments": {},
   "cell_type": "markdown",
   "metadata": {},
   "source": [
    "## Questão 3\n",
    "Para essa questão, foi utilizado a função de value_counts() presente na biblioteca do pandas, a qual serve para agrupar todos os dados presentes numa tabela, contando a quantidade de valores deles. \n",
    "A função cria um objeto que é uma \"series\" a qual pode facilmente ser convertido em um dicionário, com a função dict.\n",
    "Após isso, foi feita uma lista com as chaves do dicionário que foi criado. \n",
    "Como a função value_counts() sempre ordena os valores do maior para o menor, sabemos que quando o primeiro elemento for pego, teremos o sexo com maior quantidade de aparições.\n",
    "Por fim, basta retornar tanto a string com o sexo que teve a maior quantidade de aparições, quanto o dicionário com os sexos e suas quantidades."
   ]
  },
  {
   "cell_type": "code",
   "execution_count": 15,
   "metadata": {},
   "outputs": [
    {
     "data": {
      "text/plain": [
       "('M', {'M': 2558, 'F': 1661})"
      ]
     },
     "execution_count": 15,
     "metadata": {},
     "output_type": "execute_result"
    }
   ],
   "source": [
    "def questao_3(datapath = DATA):\n",
    "    tabela = pd.read_parquet(datapath)\n",
    "    # Criando um dicionário com os sexos e a quantidade de ocorrências de homem e mulher\n",
    "    casos_por_sexo = dict(tabela[\"CS_SEXO\"].value_counts())\n",
    "    # Criando lista com as quantidades de casos\n",
    "    lista_com_casos = list(casos_por_sexo.keys())\n",
    "    # Pegando o maior elemento (primeiro elemento)\n",
    "    maior_quantidade = lista_com_casos[0]\n",
    "    # Retornando o sexo que aparece em maior quantidade, bem como a frequência\n",
    "    return maior_quantidade, casos_por_sexo\n",
    "questao_3()"
   ]
  },
  {
   "attachments": {},
   "cell_type": "markdown",
   "metadata": {},
   "source": [
    "## Questão 4"
   ]
  },
  {
   "attachments": {},
   "cell_type": "markdown",
   "metadata": {},
   "source": [
    "## Questão 5"
   ]
  },
  {
   "attachments": {},
   "cell_type": "markdown",
   "metadata": {},
   "source": [
    "## Questão 6"
   ]
  },
  {
   "attachments": {},
   "cell_type": "markdown",
   "metadata": {},
   "source": [
    "## Questão 7"
   ]
  },
  {
   "cell_type": "code",
   "execution_count": null,
   "metadata": {},
   "outputs": [],
   "source": []
  },
  {
   "attachments": {},
   "cell_type": "markdown",
   "metadata": {},
   "source": [
    "## Questão 8"
   ]
  },
  {
   "attachments": {},
   "cell_type": "markdown",
   "metadata": {},
   "source": [
    "## Questão 9"
   ]
  },
  {
   "attachments": {},
   "cell_type": "markdown",
   "metadata": {},
   "source": [
    "## Questão 10"
   ]
  }
 ],
 "metadata": {
  "kernelspec": {
   "display_name": "Python 3",
   "language": "python",
   "name": "python3"
  },
  "language_info": {
   "codemirror_mode": {
    "name": "ipython",
    "version": 3
   },
   "file_extension": ".py",
   "mimetype": "text/x-python",
   "name": "python",
   "nbconvert_exporter": "python",
   "pygments_lexer": "ipython3",
   "version": "3.11.3"
  },
  "orig_nbformat": 4
 },
 "nbformat": 4,
 "nbformat_minor": 2
}

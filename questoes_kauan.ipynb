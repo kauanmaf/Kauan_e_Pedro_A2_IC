{
 "cells": [
  {
   "cell_type": "code",
   "execution_count": 99,
   "metadata": {},
   "outputs": [],
   "source": [
    "import pandas as pd\n",
    "import numpy as np\n",
    "import matplotlib as plt"
   ]
  },
  {
   "cell_type": "code",
   "execution_count": 100,
   "metadata": {},
   "outputs": [],
   "source": [
    "DATA = \"esquistossomose.parquet\""
   ]
  },
  {
   "attachments": {},
   "cell_type": "markdown",
   "metadata": {},
   "source": [
    "# Questão 1\n",
    "\n",
    "Para essa questão, pensamos que o comprimento do index seria igual o número de casos da questão. \\n Assim, basta ler o arquivo e calcular o comprimento do index da variável."
   ]
  },
  {
   "cell_type": "code",
   "execution_count": 101,
   "metadata": {},
   "outputs": [
    {
     "data": {
      "text/plain": [
       "4219"
      ]
     },
     "execution_count": 101,
     "metadata": {},
     "output_type": "execute_result"
    }
   ],
   "source": [
    "def questao_1(datapath = DATA):\n",
    "    tabela = pd.read_parquet(datapath)\n",
    "    # Procura o comprimento do index, que é a quantidade de casos notificados\n",
    "    tamanho = len(tabela.index)\n",
    "    return tamanho\n",
    "questao_1()"
   ]
  },
  {
   "attachments": {},
   "cell_type": "markdown",
   "metadata": {},
   "source": [
    "# Questão 3"
   ]
  },
  {
   "cell_type": "code",
   "execution_count": null,
   "metadata": {},
   "outputs": [],
   "source": []
  },
  {
   "cell_type": "code",
   "execution_count": null,
   "metadata": {},
   "outputs": [
    {
     "name": "stdout",
     "output_type": "stream",
     "text": [
      "{'M': 2558, 'F': 1661}\n",
      "('M',)\n"
     ]
    }
   ],
   "source": [
    "casos_por_sexo = dict(tabela[\"CS_SEXO\"].value_counts())\n",
    "maior_quantidade = list(casos_por_sexo.keys())\n",
    "tupla = tuple(maior_quantidade[0])\n",
    "print(casos_por_sexo)\n",
    "print(tupla)"
   ]
  },
  {
   "attachments": {},
   "cell_type": "markdown",
   "metadata": {},
   "source": [
    "# Questão 7"
   ]
  },
  {
   "cell_type": "code",
   "execution_count": null,
   "metadata": {},
   "outputs": [
    {
     "name": "stdout",
     "output_type": "stream",
     "text": [
      "    COD  Quantidade de Cidades  Quantidade de casos\n",
      "0    31                    853                  0.0\n",
      "1    35                    645                  0.0\n",
      "2    43                    497                  0.0\n",
      "3    29                    417                  0.0\n",
      "4    41                    399                  0.0\n",
      "5    42                    295                  0.0\n",
      "6    52                    246                  0.0\n",
      "7    22                    224                  0.0\n",
      "8    25                    223                  0.0\n",
      "9    21                    217                  0.0\n",
      "10   26                    184                  0.0\n",
      "11   23                    184                  0.0\n",
      "12   24                    167                  0.0\n",
      "13   15                    144                  0.0\n",
      "14   51                    141                  0.0\n",
      "15   17                    139                  0.0\n",
      "16   27                    102                  0.0\n",
      "17   33                     92                  0.0\n",
      "18   50                     79                  0.0\n",
      "19   32                     78                  0.0\n",
      "20   28                     75                  0.0\n",
      "21   13                     62                  0.0\n",
      "22   11                     52                  0.0\n",
      "23   12                     22                  0.0\n",
      "24   16                     16                  0.0\n",
      "25   14                     15                  0.0\n"
     ]
    }
   ],
   "source": [
    "\n",
    "tabela  = pd.read_parquet(\"esquistossomose.parquet\")\n",
    "mun_por_est = {31 : 853, 35 : 645, 43 : 497, 29 : 417, 41 : 399, 42 : 295, 52 : 246, 22 : 224, 25 : 223, 21: 217, 26 : 184, 23 : 184, 24 : 167, 15 : 144, 51 : 141,\n",
    "17 : 139, 27 : 102, 33 : 92, 50 : 79, 32 : 78, 28 : 75, 13 : 62,11 : 52, 12 : 22, 16 : 16, 14 : 15}\n",
    "codigo_estados = {35: ' SP', 41: ' PR', 42: ' SC', 43: ' RS', 50: ' MS', 11: ' RO', 12: ' AC', 13: ' AM',14: ' RR', 15: ' PA', 16: ' AP', 17: ' TO', 21: ' MA', 24: ' RN', 25: ' PB', 26: ' PE', 27: ' AL', 28: ' SE', 29: ' BA', 31: ' MG', 33: ' RJ', 51: ' MT', 52: ' GO', 53: ' DF', 22: ' PI', 23: ' CE', 32: ' ES'}\n",
    "\n",
    "casos_por_estado = tabela.groupby('SG_UF_NOT')['ID_MUNICIP'].nunique()\n",
    "teste = casos_por_estado.to_dict()\n",
    "tabela_auxiliar = pd.DataFrame({\"COD\": mun_por_est.keys(), \"Quantidade de Cidades\": mun_por_est.values()})\n",
    "tabela_auxiliar[\"Quantidade de casos\"] = tabela_auxiliar[\"COD\"].map(teste).fillna(0)\n",
    "# tabela_auxiliar[\"Porcentagem\"] = (tabela_auxiliar[\"Quantidade de casos\"]*100/tabela_auxiliar[\"Quantidade de Cidades\"]).round(2)\n",
    "# tabela_auxiliar[\"UF\"] = tabela_auxiliar[\"COD\"].map(codigo_estados)\n",
    "# dicionario = dict(zip(tabela_auxiliar[\"UF\"], tabela_auxiliar[\"Porcentagem\"]))\n",
    "# dicionario\n",
    "print(tabela_auxiliar)\n",
    "#tabela_auxiliar\n"
   ]
  },
  {
   "cell_type": "code",
   "execution_count": null,
   "metadata": {},
   "outputs": [],
   "source": [
    "def questao_7(datapath):\n",
    "    tabela = pd.read_parquet(datapath)\n",
    "    mun_por_est = {31 : 853, 35 : 645, 43 : 497, 29 : 417, 41 : 399, 42 : 295, 52 : 246, 22 : 224, 25 : 223, 21: 217, 26 : 184, 23 : 184, 24 : 167, 15 : 144, 51 : 141, 17 : 139, 27 : 102, 33 : 92, 50 : 79, 32 : 78, 28 : 75, 13 : 62,11 : 52, 12 : 22, 16 : 16, 14 : 15}\n",
    "    codigo_estados = {35: ' SP', 41: ' PR', 42: ' SC', 43: ' RS', 50: ' MS', 11: ' RO', 12: ' AC', 13: ' AM',14: ' RR', 15: ' PA', 16: ' AP', 17: ' TO', 21: ' MA', 24: ' RN', 25: ' PB', 26: ' PE', 27: ' AL', 28: ' SE', 29: ' BA', 31: ' MG', 33: ' RJ', 51: ' MT', 52: ' GO', 53: ' DF', 22: ' PI', 23: ' CE', 32: ' ES'}\n",
    "\n",
    "    casos_por_estado = tabela.groupby('SG_UF_NOT')['ID_MUNICIP'].nunique()\n",
    "    tabela_auxiliar = pd.DataFrame({\"Quantidade de Cidades\": mun_por_est.values(), \"COD\": mun_por_est.keys()})\n",
    "    tabela_auxiliar[\"Quantidade de casos\"] = tabela_auxiliar[\"COD\"].map(casos_por_estado).fillna(0)\n",
    "    tabela_auxiliar[\"Porcentagem\"] = (tabela_auxiliar[\"Quantidade de casos\"]*100/tabela_auxiliar[\"Quantidade de Cidades\"]).round(2)\n",
    "    tabela_auxiliar[\"UF\"] = tabela_auxiliar[\"COD\"].map(codigo_estados)\n",
    "    dicionario = dict(zip(tabela_auxiliar[\"UF\"], tabela_auxiliar[\"Porcentagem\"]))\n",
    "    return dicionario"
   ]
  },
  {
   "cell_type": "code",
   "execution_count": null,
   "metadata": {},
   "outputs": [
    {
     "data": {
      "text/plain": [
       "{' MG': 0.0,\n",
       " ' SP': 0.0,\n",
       " ' RS': 0.0,\n",
       " ' BA': 0.0,\n",
       " ' PR': 0.0,\n",
       " ' SC': 0.0,\n",
       " ' GO': 0.0,\n",
       " ' PI': 0.0,\n",
       " ' PB': 0.0,\n",
       " ' MA': 0.0,\n",
       " ' PE': 0.0,\n",
       " ' CE': 0.0,\n",
       " ' RN': 0.0,\n",
       " ' PA': 0.0,\n",
       " ' MT': 0.0,\n",
       " ' TO': 0.0,\n",
       " ' AL': 0.0,\n",
       " ' RJ': 0.0,\n",
       " ' MS': 0.0,\n",
       " ' ES': 0.0,\n",
       " ' SE': 0.0,\n",
       " ' AM': 0.0,\n",
       " ' RO': 0.0,\n",
       " ' AC': 0.0,\n",
       " ' AP': 0.0,\n",
       " ' RR': 0.0}"
      ]
     },
     "execution_count": 39,
     "metadata": {},
     "output_type": "execute_result"
    }
   ],
   "source": [
    "questao_7(\"esquistossomose.parquet\")"
   ]
  },
  {
   "cell_type": "code",
   "execution_count": null,
   "metadata": {},
   "outputs": [
    {
     "data": {
      "text/html": [
       "<div>\n",
       "<style scoped>\n",
       "    .dataframe tbody tr th:only-of-type {\n",
       "        vertical-align: middle;\n",
       "    }\n",
       "\n",
       "    .dataframe tbody tr th {\n",
       "        vertical-align: top;\n",
       "    }\n",
       "\n",
       "    .dataframe thead th {\n",
       "        text-align: right;\n",
       "    }\n",
       "</style>\n",
       "<table border=\"1\" class=\"dataframe\">\n",
       "  <thead>\n",
       "    <tr style=\"text-align: right;\">\n",
       "      <th></th>\n",
       "      <th>COD</th>\n",
       "      <th>Quantidade de Cidades</th>\n",
       "      <th>Quantidade de casos</th>\n",
       "    </tr>\n",
       "  </thead>\n",
       "  <tbody>\n",
       "    <tr>\n",
       "      <th>0</th>\n",
       "      <td>31</td>\n",
       "      <td>853</td>\n",
       "      <td>152.0</td>\n",
       "    </tr>\n",
       "    <tr>\n",
       "      <th>1</th>\n",
       "      <td>35</td>\n",
       "      <td>645</td>\n",
       "      <td>106.0</td>\n",
       "    </tr>\n",
       "    <tr>\n",
       "      <th>2</th>\n",
       "      <td>43</td>\n",
       "      <td>497</td>\n",
       "      <td>2.0</td>\n",
       "    </tr>\n",
       "    <tr>\n",
       "      <th>3</th>\n",
       "      <td>29</td>\n",
       "      <td>417</td>\n",
       "      <td>94.0</td>\n",
       "    </tr>\n",
       "    <tr>\n",
       "      <th>4</th>\n",
       "      <td>41</td>\n",
       "      <td>399</td>\n",
       "      <td>19.0</td>\n",
       "    </tr>\n",
       "    <tr>\n",
       "      <th>5</th>\n",
       "      <td>42</td>\n",
       "      <td>295</td>\n",
       "      <td>10.0</td>\n",
       "    </tr>\n",
       "    <tr>\n",
       "      <th>6</th>\n",
       "      <td>52</td>\n",
       "      <td>246</td>\n",
       "      <td>9.0</td>\n",
       "    </tr>\n",
       "    <tr>\n",
       "      <th>7</th>\n",
       "      <td>22</td>\n",
       "      <td>224</td>\n",
       "      <td>1.0</td>\n",
       "    </tr>\n",
       "    <tr>\n",
       "      <th>8</th>\n",
       "      <td>25</td>\n",
       "      <td>223</td>\n",
       "      <td>13.0</td>\n",
       "    </tr>\n",
       "    <tr>\n",
       "      <th>9</th>\n",
       "      <td>21</td>\n",
       "      <td>217</td>\n",
       "      <td>8.0</td>\n",
       "    </tr>\n",
       "    <tr>\n",
       "      <th>10</th>\n",
       "      <td>26</td>\n",
       "      <td>184</td>\n",
       "      <td>32.0</td>\n",
       "    </tr>\n",
       "    <tr>\n",
       "      <th>11</th>\n",
       "      <td>23</td>\n",
       "      <td>184</td>\n",
       "      <td>11.0</td>\n",
       "    </tr>\n",
       "    <tr>\n",
       "      <th>12</th>\n",
       "      <td>24</td>\n",
       "      <td>167</td>\n",
       "      <td>4.0</td>\n",
       "    </tr>\n",
       "    <tr>\n",
       "      <th>13</th>\n",
       "      <td>15</td>\n",
       "      <td>144</td>\n",
       "      <td>5.0</td>\n",
       "    </tr>\n",
       "    <tr>\n",
       "      <th>14</th>\n",
       "      <td>51</td>\n",
       "      <td>141</td>\n",
       "      <td>5.0</td>\n",
       "    </tr>\n",
       "    <tr>\n",
       "      <th>15</th>\n",
       "      <td>17</td>\n",
       "      <td>139</td>\n",
       "      <td>3.0</td>\n",
       "    </tr>\n",
       "    <tr>\n",
       "      <th>16</th>\n",
       "      <td>27</td>\n",
       "      <td>102</td>\n",
       "      <td>31.0</td>\n",
       "    </tr>\n",
       "    <tr>\n",
       "      <th>17</th>\n",
       "      <td>33</td>\n",
       "      <td>92</td>\n",
       "      <td>15.0</td>\n",
       "    </tr>\n",
       "    <tr>\n",
       "      <th>18</th>\n",
       "      <td>50</td>\n",
       "      <td>79</td>\n",
       "      <td>5.0</td>\n",
       "    </tr>\n",
       "    <tr>\n",
       "      <th>19</th>\n",
       "      <td>32</td>\n",
       "      <td>78</td>\n",
       "      <td>33.0</td>\n",
       "    </tr>\n",
       "    <tr>\n",
       "      <th>20</th>\n",
       "      <td>28</td>\n",
       "      <td>75</td>\n",
       "      <td>24.0</td>\n",
       "    </tr>\n",
       "    <tr>\n",
       "      <th>21</th>\n",
       "      <td>13</td>\n",
       "      <td>62</td>\n",
       "      <td>0.0</td>\n",
       "    </tr>\n",
       "    <tr>\n",
       "      <th>22</th>\n",
       "      <td>11</td>\n",
       "      <td>52</td>\n",
       "      <td>11.0</td>\n",
       "    </tr>\n",
       "    <tr>\n",
       "      <th>23</th>\n",
       "      <td>12</td>\n",
       "      <td>22</td>\n",
       "      <td>0.0</td>\n",
       "    </tr>\n",
       "    <tr>\n",
       "      <th>24</th>\n",
       "      <td>16</td>\n",
       "      <td>16</td>\n",
       "      <td>2.0</td>\n",
       "    </tr>\n",
       "    <tr>\n",
       "      <th>25</th>\n",
       "      <td>14</td>\n",
       "      <td>15</td>\n",
       "      <td>2.0</td>\n",
       "    </tr>\n",
       "  </tbody>\n",
       "</table>\n",
       "</div>"
      ],
      "text/plain": [
       "    COD  Quantidade de Cidades  Quantidade de casos\n",
       "0    31                    853                152.0\n",
       "1    35                    645                106.0\n",
       "2    43                    497                  2.0\n",
       "3    29                    417                 94.0\n",
       "4    41                    399                 19.0\n",
       "5    42                    295                 10.0\n",
       "6    52                    246                  9.0\n",
       "7    22                    224                  1.0\n",
       "8    25                    223                 13.0\n",
       "9    21                    217                  8.0\n",
       "10   26                    184                 32.0\n",
       "11   23                    184                 11.0\n",
       "12   24                    167                  4.0\n",
       "13   15                    144                  5.0\n",
       "14   51                    141                  5.0\n",
       "15   17                    139                  3.0\n",
       "16   27                    102                 31.0\n",
       "17   33                     92                 15.0\n",
       "18   50                     79                  5.0\n",
       "19   32                     78                 33.0\n",
       "20   28                     75                 24.0\n",
       "21   13                     62                  0.0\n",
       "22   11                     52                 11.0\n",
       "23   12                     22                  0.0\n",
       "24   16                     16                  2.0\n",
       "25   14                     15                  2.0"
      ]
     },
     "execution_count": 64,
     "metadata": {},
     "output_type": "execute_result"
    }
   ],
   "source": [
    "tabela = pd.read_parquet(\"esquistossomose.parquet\")\n",
    "#tabela = pd.read_csv(\"esquistossomose.csv\")\n",
    "mun_por_est = {31 : 853, 35 : 645, 43 : 497, 29 : 417, 41 : 399, 42 : 295, 52 : 246, 22 : 224, 25 : 223, 21: 217, 26 : 184, 23 : 184, 24 : 167, 15 : 144, 51 : 141, 17 : 139, 27 : 102, 33 : 92, 50 : 79, 32 : 78, 28 : 75, 13 : 62,11 : 52, 12 : 22, 16 : 16, 14 : 15}\n",
    "codigo_estados = {35: ' SP', 41: ' PR', 42: ' SC', 43: ' RS', 50: ' MS', 11: ' RO', 12: ' AC', 13: ' AM',14: ' RR', 15: ' PA', 16: ' AP', 17: ' TO', 21: ' MA', 24: ' RN', 25: ' PB', 26: ' PE', 27: ' AL', 28: ' SE', 29: ' BA', 31: ' MG', 33: ' RJ', 51: ' MT', 52: ' GO', 53: ' DF', 22: ' PI', 23: ' CE', 32: ' ES'}\n",
    "\n",
    "casos_por_estado = tabela.groupby('SG_UF_NOT')['ID_MUNICIP'].nunique()\n",
    "casos_por_estado.index = pd.to_numeric(casos_por_estado.index)\n",
    "tabela_auxiliar = pd.DataFrame({\"COD\": mun_por_est.keys(), \"Quantidade de Cidades\": mun_por_est.values()})\n",
    "tabela_auxiliar[\"Quantidade de casos\"] = tabela_auxiliar[\"COD\"].map(casos_por_estado).fillna(0)\n",
    "# tabela_auxiliar[\"Porcentagem\"] = (tabela_auxiliar[\"Quantidade de casos\"]*100/tabela_auxiliar[\"Quantidade de Cidades\"]).round(2)\n",
    "# tabela_auxiliar[\"UF\"] = tabela_auxiliar[\"COD\"].map(codigo_estados)\n",
    "# dicionario = dict(zip(tabela_auxiliar[\"UF\"], tabela_auxiliar[\"Porcentagem\"]))\n",
    "#print((casos_por_estado))\n",
    "# print(casos_por_estado)\n",
    "tabela_auxiliar \n"
   ]
  },
  {
   "cell_type": "code",
   "execution_count": null,
   "metadata": {},
   "outputs": [],
   "source": [
    "tabela = pd.read_parquet(\"esquistossomose.parquet\")\n",
    "mun_por_est = {31 : 853, 35 : 645, 43 : 497, 29 : 417, 41 : 399, 42 : 295, 52 : 246, 22 : 224, 25 : 223, 21: 217, 26 : 184, 23 : 184, 24 : 167, 15 : 144, 51 : 141, 17 : 139, 27 : 102, 33 : 92, 50 : 79, 32 : 78, 28 : 75, 13 : 62,11 : 52, 12 : 22, 16 : 16, 14 : 15}\n",
    "codigo_estados = {35: ' SP', 41: ' PR', 42: ' SC', 43: ' RS', 50: ' MS', 11: ' RO', 12: ' AC', 13: ' AM',14: ' RR', 15: ' PA', 16: ' AP', 17: ' TO', 21: ' MA', 24: ' RN', 25: ' PB', 26: ' PE', 27: ' AL', 28: ' SE', 29: ' BA', 31: ' MG', 33: ' RJ', 51: ' MT', 52: ' GO', 53: ' DF', 22: ' PI', 23: ' CE', 32: ' ES'}\n",
    "\n",
    "casos_por_estado = tabela.groupby(\"SG_UF_NOT\")[\"ID_MUNICIP\"].nunique()\n",
    "tabela_auxiliar = pd.DataFrame({\"\"})"
   ]
  },
  {
   "cell_type": "code",
   "execution_count": null,
   "metadata": {},
   "outputs": [],
   "source": [
    "tabela = pd.read_parquet(\"esquistossomose.parquet\")\n",
    "mun_por_est = {31 : 853, 35 : 645, 43 : 497, 29 : 417, 41 : 399, 42 : 295, 52 : 246, 22 : 224, 25 : 223, 21: 217, 26 : 184, 23 : 184, 24 : 167, 15 : 144, 51 : 141, 17 : 139, 27 : 102, 33 : 92, 50 : 79, 32 : 78, 28 : 75, 13 : 62,11 : 52, 12 : 22, 16 : 16, 14 : 15}\n",
    "codigo_estados = {35: ' SP', 41: ' PR', 42: ' SC', 43: ' RS', 50: ' MS', 11: ' RO', 12: ' AC', 13: ' AM',14: ' RR', 15: ' PA', 16: ' AP', 17: ' TO', 21: ' MA', 24: ' RN', 25: ' PB', 26: ' PE', 27: ' AL', 28: ' SE', 29: ' BA', 31: ' MG', 33: ' RJ', 51: ' MT', 52: ' GO', 53: ' DF', 22: ' PI', 23: ' CE', 32: ' ES'}\n",
    "\n",
    "casos_por_estado = tabela.groupby('SG_UF_NOT')['ID_MUNICIP'].nunique()\n",
    "tabela_auxiliar = pd.DataFrame({\"COD\": mun_por_est.keys(), \"Quantidade de Cidades\": mun_por_est.values()})\n",
    "tabela_auxiliar[\"Quantidade de casos\"] = tabela_auxiliar[\"COD\"].map(casos_por_estado).fillna(0)\n",
    "tabela_auxiliar[\"Porcentagem\"] = (tabela_auxiliar[\"Quantidade de casos\"]*100/tabela_auxiliar[\"Quantidade de Cidades\"]).round(2)\n",
    "tabela_auxiliar[\"UF\"] = tabela_auxiliar[\"COD\"].map(codigo_estados)\n",
    "dicionario = dict(zip(tabela_auxiliar[\"UF\"], tabela_auxiliar[\"Porcentagem\"]))"
   ]
  },
  {
   "cell_type": "code",
   "execution_count": null,
   "metadata": {},
   "outputs": [
    {
     "name": "stdout",
     "output_type": "stream",
     "text": [
      "{' RO': (365.98, 2277.71), ' RR': (7.0, 7.81), ' PA': (11.75, 18.44), ' AP': (191.0, 230.52), ' TO': (72.25, 101.12), ' MA': (65.04, 63.38), ' PI': (40.0, nan), ' CE': (41.57, 64.7), ' RN': (49.73, 60.82), ' PB': (135.11, 294.21), ' PE': (159.64, 498.15), ' AL': (951.63, 3669.89), ' SE': (62.6, 323.87), ' BA': (163.04, 1228.63), ' MG': (113.22, 829.79), ' ES': (93.91, 560.26), ' RJ': (183.59, 233.38), ' SP': (405.78, 2205.21), ' PR': (273.92, 1232.03), ' SC': (22.67, 67.27), ' RS': (11.0, 12.73), ' MS': (318.78, 597.05), ' MT': (615.45, 1085.11), ' GO': (65.5, 70.96), ' DF': (254.0, 454.5)}\n"
     ]
    }
   ],
   "source": [
    "codigo_estados = {35: ' SP', 41: ' PR', 42: ' SC', 43: ' RS', 50: ' MS', 11: ' RO', 12: ' AC', 13: ' AM',14: ' RR', 15: ' PA', 16: ' AP', 17: ' TO', 21: ' MA', 24: ' RN', 25: ' PB', 26: ' PE', 27: ' AL', 28: ' SE', 29: ' BA', 31: ' MG', 33: ' RJ', 51: ' MT', 52: ' GO', 53: ' DF', 22: ' PI', 23: ' CE', 32: ' ES'}\n",
    "\n",
    "tabela = pd.read_parquet(\"esquistossomose.parquet\")\n",
    "#criando as colunas com as datas\n",
    "tabela[\"DT_NOTIFICACAO\"] = pd.to_datetime(tabela[\"DT_NOTIFIC\"])\n",
    "tabela[\"DT_SINTOMAS\"] = pd.to_datetime(tabela[\"DT_SIN_PRI\"])\n",
    "tabela[\"ATRASO_NOT\"] = tabela[\"DT_NOTIFICACAO\"] - tabela[\"DT_SINTOMAS\"]\n",
    "tabela['ATRASO_NOT'] = tabela['ATRASO_NOT'].dt.days\n",
    "\n",
    "#criando o Dataframe com a media e o desvio padrão\n",
    "media_atraso = tabela.groupby(\"SG_UF_NOT\")[\"ATRASO_NOT\"].agg([\"mean\", \"std\"])\n",
    "#colocando o index como número para funcionar\n",
    "media_atraso.index = pd.to_numeric(media_atraso.index)\n",
    "media_atraso[\"UF\"] = media_atraso.index.map(codigo_estados)\n",
    "resposta = dict(zip(media_atraso[\"UF\"], zip(media_atraso[\"mean\"].round(2), media_atraso[\"std\"].round(2))))\n",
    "\n",
    "print(resposta)\n",
    "    "
   ]
  },
  {
   "attachments": {},
   "cell_type": "markdown",
   "metadata": {},
   "source": [
    "# Questão 10"
   ]
  },
  {
   "cell_type": "code",
   "execution_count": null,
   "metadata": {},
   "outputs": [],
   "source": [
    "atraso = pd.read_parquet(\"esquistossomose.parquet\")\n",
    "atraso[\"DT_NOTIFICACAO\"] = pd.to_datetime(atraso[\"DT_NOTIFIC\"])\n",
    "atraso[\"DT_SINTOMAS\"] = pd.to_datetime(atraso[\"DT_SIN_PRI\"])\n",
    "atraso[\"ATRASO_NOT\"] = atraso[\"DT_NOTIFICACAO\"] - atraso[\"DT_SINTOMAS\"]\n",
    "atraso['ATRASO_NOT'] = atraso['ATRASO_NOT'].dt.days\n",
    "\n"
   ]
  },
  {
   "cell_type": "code",
   "execution_count": null,
   "metadata": {},
   "outputs": [
    {
     "name": "stdout",
     "output_type": "stream",
     "text": [
      "             ATRASO_NOT\n",
      "ID_MUNICIP             \n",
      "110002        95.000000\n",
      "110005         0.000000\n",
      "110011        12.750000\n",
      "110015      1130.368421\n",
      "110020        22.272727\n",
      "...                 ...\n",
      "521720        31.000000\n",
      "521740        86.000000\n",
      "521880       155.000000\n",
      "522050         8.000000\n",
      "530010       254.000000\n",
      "\n",
      "[598 rows x 1 columns]\n"
     ]
    },
    {
     "data": {
      "text/plain": [
       "ID_MUNICIP\n",
       "110002     1\n",
       "110005     2\n",
       "110011    16\n",
       "110015    19\n",
       "110020    11\n",
       "          ..\n",
       "521720     1\n",
       "521740     1\n",
       "521880     1\n",
       "522050     2\n",
       "530010    24\n",
       "Name: ATRASO_NOT, Length: 598, dtype: int64"
      ]
     },
     "execution_count": 91,
     "metadata": {},
     "output_type": "execute_result"
    }
   ],
   "source": [
    "atraso_por_municipio = pd.DataFrame(atraso.groupby(\"ID_MUNICIP\")[\"ATRASO_NOT\"].mean())\n",
    "notificacoes_por_municipio = atraso.groupby(\"ID_MUNICIP\")[\"ATRASO_NOT\"].count()\n",
    "print(atraso_por_municipio)\n",
    "notificacoes_por_municipio"
   ]
  },
  {
   "cell_type": "code",
   "execution_count": null,
   "metadata": {},
   "outputs": [
    {
     "data": {
      "text/html": [
       "<div>\n",
       "<style scoped>\n",
       "    .dataframe tbody tr th:only-of-type {\n",
       "        vertical-align: middle;\n",
       "    }\n",
       "\n",
       "    .dataframe tbody tr th {\n",
       "        vertical-align: top;\n",
       "    }\n",
       "\n",
       "    .dataframe thead th {\n",
       "        text-align: right;\n",
       "    }\n",
       "</style>\n",
       "<table border=\"1\" class=\"dataframe\">\n",
       "  <thead>\n",
       "    <tr style=\"text-align: right;\">\n",
       "      <th></th>\n",
       "      <th>ATRASO_NOT</th>\n",
       "      <th>CASOS</th>\n",
       "    </tr>\n",
       "    <tr>\n",
       "      <th>ID_MUNICIP</th>\n",
       "      <th></th>\n",
       "      <th></th>\n",
       "    </tr>\n",
       "  </thead>\n",
       "  <tbody>\n",
       "    <tr>\n",
       "      <th>110002</th>\n",
       "      <td>95.000000</td>\n",
       "      <td>1</td>\n",
       "    </tr>\n",
       "    <tr>\n",
       "      <th>110005</th>\n",
       "      <td>0.000000</td>\n",
       "      <td>2</td>\n",
       "    </tr>\n",
       "    <tr>\n",
       "      <th>110011</th>\n",
       "      <td>12.750000</td>\n",
       "      <td>16</td>\n",
       "    </tr>\n",
       "    <tr>\n",
       "      <th>110015</th>\n",
       "      <td>1130.368421</td>\n",
       "      <td>19</td>\n",
       "    </tr>\n",
       "    <tr>\n",
       "      <th>110020</th>\n",
       "      <td>22.272727</td>\n",
       "      <td>11</td>\n",
       "    </tr>\n",
       "    <tr>\n",
       "      <th>...</th>\n",
       "      <td>...</td>\n",
       "      <td>...</td>\n",
       "    </tr>\n",
       "    <tr>\n",
       "      <th>521720</th>\n",
       "      <td>31.000000</td>\n",
       "      <td>1</td>\n",
       "    </tr>\n",
       "    <tr>\n",
       "      <th>521740</th>\n",
       "      <td>86.000000</td>\n",
       "      <td>1</td>\n",
       "    </tr>\n",
       "    <tr>\n",
       "      <th>521880</th>\n",
       "      <td>155.000000</td>\n",
       "      <td>1</td>\n",
       "    </tr>\n",
       "    <tr>\n",
       "      <th>522050</th>\n",
       "      <td>8.000000</td>\n",
       "      <td>2</td>\n",
       "    </tr>\n",
       "    <tr>\n",
       "      <th>530010</th>\n",
       "      <td>254.000000</td>\n",
       "      <td>24</td>\n",
       "    </tr>\n",
       "  </tbody>\n",
       "</table>\n",
       "<p>598 rows × 2 columns</p>\n",
       "</div>"
      ],
      "text/plain": [
       "             ATRASO_NOT  CASOS\n",
       "ID_MUNICIP                    \n",
       "110002        95.000000      1\n",
       "110005         0.000000      2\n",
       "110011        12.750000     16\n",
       "110015      1130.368421     19\n",
       "110020        22.272727     11\n",
       "...                 ...    ...\n",
       "521720        31.000000      1\n",
       "521740        86.000000      1\n",
       "521880       155.000000      1\n",
       "522050         8.000000      2\n",
       "530010       254.000000     24\n",
       "\n",
       "[598 rows x 2 columns]"
      ]
     },
     "execution_count": 92,
     "metadata": {},
     "output_type": "execute_result"
    }
   ],
   "source": [
    "atraso_por_municipio[\"CASOS\"] = atraso_por_municipio.index.map(notificacoes_por_municipio)\n",
    "atraso_por_municipio\n",
    "atraso_por_municipio"
   ]
  },
  {
   "cell_type": "code",
   "execution_count": null,
   "metadata": {},
   "outputs": [
    {
     "data": {
      "text/plain": [
       "<Axes: xlabel='ATRASO_NOT', ylabel='CASOS'>"
      ]
     },
     "execution_count": 94,
     "metadata": {},
     "output_type": "execute_result"
    },
    {
     "data": {
      "image/png": "[encoded data removed]",
      "text/plain": [
       "<Figure size 640x480 with 1 Axes>"
      ]
     },
     "metadata": {},
     "output_type": "display_data"
    }
   ],
   "source": [
    "atraso_por_municipio.plot.scatter(x = \"ATRASO_NOT\", y = \"CASOS\")"
   ]
  }
 ],
 "metadata": {
  "kernelspec": {
   "display_name": "Python 3",
   "language": "python",
   "name": "python3"
  },
  "language_info": {
   "codemirror_mode": {
    "name": "ipython",
    "version": 3
   },
   "file_extension": ".py",
   "mimetype": "text/x-python",
   "name": "python",
   "nbconvert_exporter": "python",
   "pygments_lexer": "ipython3",
   "version": "3.11.3"
  },
  "orig_nbformat": 4,
  "vscode": {
   "interpreter": {
    "hash": "5238573367df39f7286bb46f9ff5f08f63a01a80960060ce41e3c79b190280fa"
   }
  }
 },
 "nbformat": 4,
 "nbformat_minor": 2
}

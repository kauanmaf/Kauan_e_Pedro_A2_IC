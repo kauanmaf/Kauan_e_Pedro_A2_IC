{
 "cells": [
  {
   "cell_type": "code",
   "execution_count": 1,
   "metadata": {},
   "outputs": [],
   "source": [
    "import pandas as pd\n",
    "import matplotlib.pyplot as plt\n",
    "\n",
    "codigos_estados = {35: 'SP', 41: 'PR', 42: 'SC', 43: 'RS', 50: 'MS', 11: 'RO', 12: 'AC', 13: 'AM', 14: 'RR', 15: 'PA', 16: 'AP', 17: 'TO', 21: 'MA', 24: 'RN', 25: 'PB', 26: 'PE', 27: 'AL', 28: 'SE', 29: 'BA', 31: 'MG', 33: 'RJ', 51: 'MT', 52: 'GO', 53: 'DF', 22: 'PI', 23: 'CE', 32: 'ES'}\n",
    "\n",
    "DATA = \"esquistossomose.parquet\""
   ]
  },
  {
   "attachments": {},
   "cell_type": "markdown",
   "metadata": {},
   "source": [
    "## Questão 2"
   ]
  },
  {
   "attachments": {},
   "cell_type": "markdown",
   "metadata": {},
   "source": [
    "Para essa questão, foi necessário o uso de apenas um método chamado `value_counts`, que automaticamente agrupa os dados, no nosso caso, por município, e contabiliza quantos casos da doença ocorreram em cada município. Assim, o resultado foi este:"
   ]
  },
  {
   "cell_type": "code",
   "execution_count": 2,
   "metadata": {},
   "outputs": [
    {
     "data": {
      "text/plain": [
       "ID_MUNICIP\n",
       "313130    419\n",
       "310620    353\n",
       "355030    173\n",
       "310050    166\n",
       "312270    127\n",
       "         ... \n",
       "310900      1\n",
       "310690      1\n",
       "310510      1\n",
       "310040      1\n",
       "313220      1\n",
       "Name: count, Length: 598, dtype: int64"
      ]
     },
     "execution_count": 2,
     "metadata": {},
     "output_type": "execute_result"
    }
   ],
   "source": [
    "def questao_2(datapath = DATA):\n",
    "    tabela = pd.read_parquet(datapath)\n",
    "    return tabela.value_counts(\"ID_MUNICIP\")\n",
    "\n",
    "questao_2()"
   ]
  },
  {
   "attachments": {},
   "cell_type": "markdown",
   "metadata": {},
   "source": [
    "# Questão 4"
   ]
  },
  {
   "attachments": {},
   "cell_type": "markdown",
   "metadata": {},
   "source": [
    "Para responder a essa pergunta, foi preciso apenas um método denominado `mean`, que retorna a média dos dados de uma determinada coluna de uma tabela. Assim, bastou aplicar esse método à coluna \"IDADE\" no nosso dataset, coluna essa que foi criada ainda antes do download da base por meio da função decodificadora de idade do SINAN."
   ]
  },
  {
   "cell_type": "code",
   "execution_count": 3,
   "metadata": {},
   "outputs": [
    {
     "data": {
      "text/plain": [
       "40.20773257745728"
      ]
     },
     "execution_count": 3,
     "metadata": {},
     "output_type": "execute_result"
    }
   ],
   "source": [
    "def questao_4(datapath = DATA):\n",
    "    tabela = pd.read_parquet(datapath)\n",
    "    return tabela[\"IDADE\"].mean()\n",
    "\n",
    "questao_4()"
   ]
  },
  {
   "attachments": {},
   "cell_type": "markdown",
   "metadata": {},
   "source": [
    "Portanto, a média de idade das vítimas de esquistossomose em 2018 foi de aproximadamente 40 anos."
   ]
  },
  {
   "attachments": {},
   "cell_type": "markdown",
   "metadata": {},
   "source": [
    "# Questão 5"
   ]
  },
  {
   "attachments": {},
   "cell_type": "markdown",
   "metadata": {},
   "source": [
    "Primeiramente, mais uma vez, era necessário agrupar os dados e contar suas ocorrências por categoria por meio do `value_counts`, mas agora por estado.\n",
    "\n",
    "Em seguida, com base em um dicionário já carregado anteriormente que contém os códigos dos estados e as respectivas siglas, foi realizada a substituição dos códigos numéricos pelas siglas de cada estado por meio de um loop `for` e com o método `rename`, que renomeou adequadamente cada código pelo respectivo estado. Vale ressaltar que isso foi efetuado como uma troca de índices, já que os valores dos estados estavam configurados como a coluna \"index\" da série gerada inicialmente. Além disso, na série, foi preciso converter esses códigos para números com a função `to_numeric`, pois eles estavam classificados como strings, impossibilitando a correspondência entre seus valores e os do dicionário.\n",
    "\n",
    "Por fim, bastou converter essa série para dicionário com o método `to_dict`."
   ]
  },
  {
   "cell_type": "code",
   "execution_count": 5,
   "metadata": {},
   "outputs": [
    {
     "data": {
      "text/plain": [
       "{'MG': 2064,\n",
       " 'SP': 573,\n",
       " 'ES': 437,\n",
       " 'BA': 341,\n",
       " 'PE': 177,\n",
       " 'SE': 130,\n",
       " 'AL': 102,\n",
       " 'RO': 66,\n",
       " 'MA': 54,\n",
       " 'PR': 49,\n",
       " 'PB': 46,\n",
       " 'RJ': 44,\n",
       " 'CE': 37,\n",
       " 'DF': 24,\n",
       " 'SC': 12,\n",
       " 'GO': 12,\n",
       " 'MT': 11,\n",
       " 'RN': 11,\n",
       " 'MS': 9,\n",
       " 'PA': 8,\n",
       " 'TO': 4,\n",
       " 'RR': 3,\n",
       " 'AP': 2,\n",
       " 'RS': 2,\n",
       " 'PI': 1}"
      ]
     },
     "execution_count": 5,
     "metadata": {},
     "output_type": "execute_result"
    }
   ],
   "source": [
    "def questao_5(datapath = DATA):\n",
    "    tabela = pd.read_parquet(datapath)\n",
    "    # Agrupando e contando as ocorrências por estado\n",
    "    tabela_por_estado = tabela.value_counts(\"SG_UF_NOT\")\n",
    "    # Convertendo os códigos dos estados para números\n",
    "    tabela_por_estado.index = pd.to_numeric(tabela_por_estado.index)\n",
    "    # Substituindo os códigos pelas siglas\n",
    "    for codigo, sigla in codigos_estados.items():\n",
    "        tabela_por_estado.rename(index = {codigo: sigla}, inplace = True)\n",
    "    # Convertendo a série para um dicionário\n",
    "    return tabela_por_estado.to_dict()\n",
    "\n",
    "questao_5()"
   ]
  },
  {
   "attachments": {},
   "cell_type": "markdown",
   "metadata": {},
   "source": [
    "Portanto, a unidade federativa com mais registros é Minas Gerais, com 2064 casos da doença naquele ano."
   ]
  },
  {
   "attachments": {},
   "cell_type": "markdown",
   "metadata": {},
   "source": [
    "# Questão 6"
   ]
  },
  {
   "attachments": {},
   "cell_type": "markdown",
   "metadata": {},
   "source": [
    "Para essa questão, foram realizados exatamente os mesmos passos da questão anterior, com a única diferença de que foi feita a filtragem dos dados de modo a considerar apenas registros com pessoas do sexo masculino. Assim, a função ficou desta forma:"
   ]
  },
  {
   "cell_type": "code",
   "execution_count": 7,
   "metadata": {},
   "outputs": [
    {
     "data": {
      "text/plain": [
       "{'MG': 1276,\n",
       " 'SP': 312,\n",
       " 'ES': 307,\n",
       " 'BA': 191,\n",
       " 'PE': 100,\n",
       " 'SE': 78,\n",
       " 'AL': 50,\n",
       " 'PR': 41,\n",
       " 'RO': 36,\n",
       " 'MA': 35,\n",
       " 'PB': 27,\n",
       " 'RJ': 26,\n",
       " 'CE': 19,\n",
       " 'SC': 12,\n",
       " 'DF': 11,\n",
       " 'GO': 8,\n",
       " 'RN': 7,\n",
       " 'MS': 7,\n",
       " 'MT': 6,\n",
       " 'PA': 4,\n",
       " 'TO': 2,\n",
       " 'RR': 1,\n",
       " 'AP': 1,\n",
       " 'RS': 1}"
      ]
     },
     "execution_count": 7,
     "metadata": {},
     "output_type": "execute_result"
    }
   ],
   "source": [
    "def questao_6(datapath = DATA):\n",
    "    tabela = pd.read_parquet(datapath)\n",
    "    # Filtrando os dados para registros do sexo masculino\n",
    "    sexo_masculino = tabela[tabela[\"CS_SEXO\"] == \"M\"]\n",
    "    sexo_masculino_por_estado = sexo_masculino.value_counts(\"SG_UF_NOT\")\n",
    "    sexo_masculino_por_estado.index = pd.to_numeric(sexo_masculino_por_estado.index)\n",
    "    for codigo, sigla in codigos_estados.items():\n",
    "        sexo_masculino_por_estado.rename(index = {codigo: sigla}, inplace = True)\n",
    "    return sexo_masculino_por_estado.to_dict()\n",
    "\n",
    "questao_6()"
   ]
  },
  {
   "attachments": {},
   "cell_type": "markdown",
   "metadata": {},
   "source": [
    "Desse modo, novamente, o estado com mais casos do sexo masculino é Minas Gerais, com 1276 registros."
   ]
  }
 ],
 "metadata": {
  "kernelspec": {
   "display_name": "Python 3",
   "language": "python",
   "name": "python3"
  },
  "language_info": {
   "codemirror_mode": {
    "name": "ipython",
    "version": 3
   },
   "file_extension": ".py",
   "mimetype": "text/x-python",
   "name": "python",
   "nbconvert_exporter": "python",
   "pygments_lexer": "ipython3",
   "version": "3.10.10"
  },
  "orig_nbformat": 4
 },
 "nbformat": 4,
 "nbformat_minor": 2
}
